{
 "cells": [
  {
   "cell_type": "markdown",
   "metadata": {},
   "source": [
    "# 2-Dimensional Spatial K-Means Clustering Exercise"
   ]
  },
  {
   "cell_type": "markdown",
   "metadata": {},
   "source": [
    "<i>From Scikit Learn's documentation.\n",
    "\n",
    "The KMeans algorithm clusters data by trying to separate samples in n groups of equal variance, minimizing a criterion known as the inertia or within-cluster sum-of-squares. This algorithm requires the number of clusters to be specified. It scales well to large number of samples and has been used across a large range of application areas in many different fields.</i>\n",
    "\n",
    "Documentation Link<br>\n",
    "http://scikit-learn.org/stable/modules/clustering.html#k-means\n",
    "\n"
   ]
  },
  {
   "cell_type": "markdown",
   "metadata": {},
   "source": [
    "## Part 1. Data"
   ]
  },
  {
   "cell_type": "code",
   "execution_count": 1,
   "metadata": {},
   "outputs": [],
   "source": [
    "%matplotlib inline\n",
    "from copy import deepcopy\n",
    "import numpy as np\n",
    "import pandas as pd\n",
    "from matplotlib import pyplot as plt\n",
    "plt.rcParams['figure.figsize'] = (20, 12)\n",
    "plt.style.use('ggplot')\n",
    "# herheehehhe"
   ]
  },
  {
   "cell_type": "code",
   "execution_count": 2,
   "metadata": {},
   "outputs": [
    {
     "name": "stdout",
     "output_type": "stream",
     "text": [
      "(18547, 12)\n"
     ]
    },
    {
     "data": {
      "text/html": [
       "<div>\n",
       "<style>\n",
       "    .dataframe thead tr:only-child th {\n",
       "        text-align: right;\n",
       "    }\n",
       "\n",
       "    .dataframe thead th {\n",
       "        text-align: left;\n",
       "    }\n",
       "\n",
       "    .dataframe tbody tr th {\n",
       "        vertical-align: top;\n",
       "    }\n",
       "</style>\n",
       "<table border=\"1\" class=\"dataframe\">\n",
       "  <thead>\n",
       "    <tr style=\"text-align: right;\">\n",
       "      <th></th>\n",
       "      <th>id</th>\n",
       "      <th>neighbourhood_group</th>\n",
       "      <th>latitude</th>\n",
       "      <th>longitude</th>\n",
       "      <th>room_type</th>\n",
       "      <th>price</th>\n",
       "      <th>minimum_nights</th>\n",
       "      <th>number_of_reviews</th>\n",
       "      <th>last_review</th>\n",
       "      <th>reviews_per_month</th>\n",
       "      <th>calculated_host_listings_count</th>\n",
       "      <th>availability_365</th>\n",
       "    </tr>\n",
       "  </thead>\n",
       "  <tbody>\n",
       "    <tr>\n",
       "      <th>0</th>\n",
       "      <td>20621335</td>\n",
       "      <td>NaN</td>\n",
       "      <td>52.319173</td>\n",
       "      <td>4.981151</td>\n",
       "      <td>Private room</td>\n",
       "      <td>52</td>\n",
       "      <td>3</td>\n",
       "      <td>23</td>\n",
       "      <td>11/28/2017</td>\n",
       "      <td>6.83</td>\n",
       "      <td>1</td>\n",
       "      <td>12</td>\n",
       "    </tr>\n",
       "    <tr>\n",
       "      <th>1</th>\n",
       "      <td>16682109</td>\n",
       "      <td>NaN</td>\n",
       "      <td>52.321739</td>\n",
       "      <td>4.978522</td>\n",
       "      <td>Private room</td>\n",
       "      <td>42</td>\n",
       "      <td>2</td>\n",
       "      <td>30</td>\n",
       "      <td>11/27/2017</td>\n",
       "      <td>2.77</td>\n",
       "      <td>1</td>\n",
       "      <td>151</td>\n",
       "    </tr>\n",
       "    <tr>\n",
       "      <th>2</th>\n",
       "      <td>14117599</td>\n",
       "      <td>NaN</td>\n",
       "      <td>52.321546</td>\n",
       "      <td>4.960181</td>\n",
       "      <td>Private room</td>\n",
       "      <td>70</td>\n",
       "      <td>1</td>\n",
       "      <td>22</td>\n",
       "      <td>11/18/2017</td>\n",
       "      <td>1.70</td>\n",
       "      <td>1</td>\n",
       "      <td>332</td>\n",
       "    </tr>\n",
       "    <tr>\n",
       "      <th>3</th>\n",
       "      <td>18093601</td>\n",
       "      <td>NaN</td>\n",
       "      <td>52.324379</td>\n",
       "      <td>4.961670</td>\n",
       "      <td>Private room</td>\n",
       "      <td>75</td>\n",
       "      <td>1</td>\n",
       "      <td>16</td>\n",
       "      <td>9/17/2017</td>\n",
       "      <td>2.06</td>\n",
       "      <td>1</td>\n",
       "      <td>0</td>\n",
       "    </tr>\n",
       "    <tr>\n",
       "      <th>4</th>\n",
       "      <td>7303459</td>\n",
       "      <td>NaN</td>\n",
       "      <td>52.321006</td>\n",
       "      <td>4.961115</td>\n",
       "      <td>Private room</td>\n",
       "      <td>38</td>\n",
       "      <td>3</td>\n",
       "      <td>2</td>\n",
       "      <td>7/23/2016</td>\n",
       "      <td>0.12</td>\n",
       "      <td>2</td>\n",
       "      <td>125</td>\n",
       "    </tr>\n",
       "  </tbody>\n",
       "</table>\n",
       "</div>"
      ],
      "text/plain": [
       "         id  neighbourhood_group   latitude  longitude     room_type  price  \\\n",
       "0  20621335                  NaN  52.319173   4.981151  Private room     52   \n",
       "1  16682109                  NaN  52.321739   4.978522  Private room     42   \n",
       "2  14117599                  NaN  52.321546   4.960181  Private room     70   \n",
       "3  18093601                  NaN  52.324379   4.961670  Private room     75   \n",
       "4   7303459                  NaN  52.321006   4.961115  Private room     38   \n",
       "\n",
       "   minimum_nights  number_of_reviews last_review  reviews_per_month  \\\n",
       "0               3                 23  11/28/2017               6.83   \n",
       "1               2                 30  11/27/2017               2.77   \n",
       "2               1                 22  11/18/2017               1.70   \n",
       "3               1                 16   9/17/2017               2.06   \n",
       "4               3                  2   7/23/2016               0.12   \n",
       "\n",
       "   calculated_host_listings_count  availability_365  \n",
       "0                               1                12  \n",
       "1                               1               151  \n",
       "2                               1               332  \n",
       "3                               1                 0  \n",
       "4                               2               125  "
      ]
     },
     "execution_count": 2,
     "metadata": {},
     "output_type": "execute_result"
    }
   ],
   "source": [
    "# Importing the dataset\n",
    "data = pd.read_csv('Data/Airbnb_Data.csv')\n",
    "\n",
    "# Gets the dimensions of the table\n",
    "print(data.shape)\n",
    "\n",
    "# Looks at the first rows of the data to preview it.\n",
    "data.head()"
   ]
  },
  {
   "cell_type": "code",
   "execution_count": null,
   "metadata": {
    "collapsed": true
   },
   "outputs": [],
   "source": [
    "# Getting the lat/lon values and plotting it\n",
    "f1 = data['longitude'].values\n",
    "f2 = data['latitude'].values\n",
    "\n",
    "# Creates an array with the lat/lon values.\n",
    "X = np.array(list(zip(f1, f2)))\n",
    "\n",
    "# Plot the \n",
    "plt.scatter(f1, f2, c='black', s=7)"
   ]
  },
  {
   "cell_type": "markdown",
   "metadata": {},
   "source": [
    "## Part 2. Scikit Learn K - Means"
   ]
  },
  {
   "cell_type": "code",
   "execution_count": null,
   "metadata": {
    "collapsed": true
   },
   "outputs": [],
   "source": [
    "# Import K-Means\n",
    "from sklearn.cluster import KMeans\n",
    "\n",
    "\n",
    "# Number of clusters/Runs Kmeans/init allows you to input different starting seeds through random, k-means++, and np.array()\n",
    "kmeans = KMeans(n_clusters=5, init=\"k-means++\")\n",
    "\n",
    "# Fitting the input data\n",
    "kmeans = kmeans.fit(X)\n",
    "\n",
    "# Prediction/labels\n",
    "labels = kmeans.predict(X)\n",
    "\n",
    "# Centroid values\n",
    "centroids = kmeans.cluster_centers_"
   ]
  },
  {
   "cell_type": "code",
   "execution_count": null,
   "metadata": {
    "collapsed": true
   },
   "outputs": [],
   "source": [
    "# Comparing with scikit-learn centroids\n",
    "print(centroids) # From sci-kit learn"
   ]
  },
  {
   "cell_type": "code",
   "execution_count": null,
   "metadata": {
    "collapsed": true
   },
   "outputs": [],
   "source": [
    "# Plots the clusters in distinct colors. (Labels used to find which cluster each point belongs to.)\n",
    "plt.scatter(X[:, 0], X[:, 1], c=labels, s=12, cmap='viridis')\n",
    "\n",
    "# Assigns cluster centers to the centers variable\n",
    "centers = kmeans.cluster_centers_\n",
    "\n",
    "# Plotting the centroids of the clusters\n",
    "plt.scatter(centers[:, 0], centers[:, 1], c='black', s=200, alpha=0.5);"
   ]
  },
  {
   "cell_type": "markdown",
   "metadata": {
    "collapsed": true
   },
   "source": [
    "# 2-Dimensional DBSCAN Exercise"
   ]
  },
  {
   "cell_type": "markdown",
   "metadata": {},
   "source": [
    "<i>From Scikit Learn's documentation.\n",
    "\n",
    "\n",
    "The DBSCAN algorithm views clusters as areas of high density separated by areas of low density. Due to this rather generic view, clusters found by DBSCAN can be any shape, as opposed to k-means which assumes that clusters are convex shaped. The central component to the DBSCAN is the concept of core samples, which are samples that are in areas of high density. A cluster is therefore a set of core samples, each close to each other (measured by some distance measure) and a set of non-core samples that are close to a core sample (but are not themselves core samples). There are two parameters to the algorithm, min_samples and eps, which define formally what we mean when we say dense. Higher min_samples or lower eps indicate higher density necessary to form a cluster.</i>\n",
    "\n",
    "\n",
    "Documentation Link<br>\n",
    "http://scikit-learn.org/stable/modules/clustering.html#dbscan\n",
    "\n",
    "\n",
    "\n",
    "\n",
    "<i> Adpated from the scikit learn documentation.</i>"
   ]
  },
  {
   "cell_type": "markdown",
   "metadata": {},
   "source": [
    "Import Correct modules to run the tool. "
   ]
  },
  {
   "cell_type": "code",
   "execution_count": null,
   "metadata": {
    "collapsed": true
   },
   "outputs": [],
   "source": [
    "from sklearn.cluster import DBSCAN\n",
    "from sklearn import metrics\n",
    "from sklearn.datasets.samples_generator import make_blobs\n",
    "from sklearn.preprocessing import StandardScaler"
   ]
  },
  {
   "cell_type": "code",
   "execution_count": null,
   "metadata": {
    "collapsed": true
   },
   "outputs": [],
   "source": [
    "# define the number of kilometers in one radian\n",
    "kms_per_radian = 6371.0088\n",
    "\n",
    "# represent points consistently as (lat, lon)\n",
    "coords = data.as_matrix(columns=['latitude', 'longitude'])\n"
   ]
  },
  {
   "cell_type": "code",
   "execution_count": null,
   "metadata": {
    "collapsed": true
   },
   "outputs": [],
   "source": [
    "# Runs the dbscan scikit learn example\n",
    "db = DBSCAN(eps=0.004, min_samples=10, metric=\"euclidean\").fit(X)\n",
    "core_samples_mask = np.zeros_like(db.labels_, dtype=bool)\n",
    "core_samples_mask[db.core_sample_indices_] = True\n",
    "\n",
    "# Retrieves which value the cluster belongs to. \n",
    "labels = db.labels_\n",
    "\n",
    "# Number of clusters in labels, ignoring noise if present.\n",
    "n_clusters_ = len(set(labels)) - (1 if -1 in labels else 0)\n",
    "\n",
    "\n",
    "# Plot result\n",
    "import matplotlib.pyplot as plt\n",
    "\n",
    "# Black removed and is used for noise instead.\n",
    "unique_labels = set(labels)\n",
    "\n",
    "# Colors chosen for each label\n",
    "colors = [plt.cm.Spectral(each)\n",
    "          for each in np.linspace(0, 1, len(unique_labels))]\n",
    "for k, col in zip(unique_labels, colors):\n",
    "    if k == -1:\n",
    "        # Black used for noise.\n",
    "        col = [0, 0, 0, 1]\n",
    "\n",
    "    # Necessary for cluster visualization\n",
    "    class_member_mask = (labels == k)\n",
    "\n",
    "    # Cluster Symbols\n",
    "    xy = X[class_member_mask & core_samples_mask]\n",
    "    plt.plot(xy[:, 0], xy[:, 1], 'o', markerfacecolor=tuple(col),\n",
    "             markeredgecolor='k', markersize=9)\n",
    "\n",
    "    # Noise Symbols \n",
    "    xy = X[class_member_mask & ~core_samples_mask]\n",
    "    plt.plot(xy[:, 0], xy[:, 1], 'o', markerfacecolor=tuple(col),\n",
    "             markeredgecolor='k', markersize=3)\n",
    "\n",
    "# Plot Title\n",
    "plt.title('Estimated number of clusters: %d' % n_clusters_)\n",
    "\n",
    "# Display data\n",
    "plt.show()"
   ]
  },
  {
   "cell_type": "code",
   "execution_count": null,
   "metadata": {
    "collapsed": true
   },
   "outputs": [],
   "source": []
  }
 ],
 "metadata": {
  "kernelspec": {
   "display_name": "Python 3",
   "language": "python",
   "name": "python3"
  },
  "language_info": {
   "codemirror_mode": {
    "name": "ipython",
    "version": 3
   },
   "file_extension": ".py",
   "mimetype": "text/x-python",
   "name": "python",
   "nbconvert_exporter": "python",
   "pygments_lexer": "ipython3",
   "version": "3.6.3"
  }
 },
 "nbformat": 4,
 "nbformat_minor": 2
}
